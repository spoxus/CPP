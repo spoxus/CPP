{
 "cells": [
  {
   "cell_type": "code",
   "execution_count": 4,
   "id": "6449ff3f-f91a-4190-b2c3-f8405fa597f3",
   "metadata": {
    "tags": []
   },
   "outputs": [
    {
     "name": "stdout",
     "output_type": "stream",
     "text": [
      "Dash is running on http://127.0.0.1:8069/\n",
      "\n",
      "Dash app running on http://127.0.0.1:8069/\n"
     ]
    }
   ],
   "source": [
    "import pandas as pd\n",
    "import numpy  as np\n",
    "import plotly.express as px\n",
    "import plotly.graph_objects as go\n",
    "from   jupyter_dash import JupyterDash\n",
    "from   dash import dcc\n",
    "from   dash import html\n",
    "from   dash.dependencies import Input, Output\n",
    "\n",
    "# code and plot setup\n",
    "# settings\n",
    "pd.options.plotting.backend = \"plotly\"\n",
    "countdown = 20\n",
    "#global df\n",
    "\n",
    "# sample dataframe of a wide format\n",
    "np.random.seed(4)\n",
    "cols = list('abc')\n",
    "X    = np.random.randn(50, len(cols))  \n",
    "df   = pd.DataFrame(X, columns=cols)\n",
    "df.iloc[0]=0;\n",
    "\n",
    "# plotly figure\n",
    "fig = df.plot(template = 'plotly_dark')\n",
    "\n",
    "app = JupyterDash(__name__)\n",
    "app.layout = html.Div([\n",
    "    html.H1(\"Streaming of random data\"),\n",
    "            dcc.Interval(\n",
    "            id = 'interval-component',\n",
    "            interval = 1*1000, # in milliseconds\n",
    "            n_intervals = 0\n",
    "        ),\n",
    "    dcc.Graph(id='graph'),\n",
    "])\n",
    "\n",
    "# Define callback to update graph\n",
    "@app.callback(\n",
    "    Output('graph', 'figure'),\n",
    "    [Input('interval-component', \"n_intervals\")]\n",
    ")\n",
    "def streamFig(value):\n",
    "    \n",
    "    global df\n",
    "    \n",
    "    Y = np.random.randn(1, len(cols))  \n",
    "    df2 = pd.DataFrame(Y, columns = cols)\n",
    "    df = df.append(df2, ignore_index=True)#.reset_index()\n",
    "    #df.tail()\n",
    "    df3 = df.copy()\n",
    "    df3 = df3.cumsum()#.tail(1000)\n",
    "    fig = df3.plot(template = 'plotly_dark')\n",
    "    #fig.show()\n",
    "    \n",
    "    colors = px.colors.qualitative.Plotly\n",
    "    for i, col in enumerate(df3.columns):\n",
    "            fig.add_annotation(x=df3.index[-1], y=df3[col].iloc[-1],\n",
    "                                   text = str(df3[col].iloc[-1])[:4],\n",
    "                                   align=\"right\",\n",
    "                                   arrowcolor = 'rgba(0,0,0,0)',\n",
    "                                   ax=25,\n",
    "                                   ay=0,\n",
    "                                   yanchor = 'middle',\n",
    "                                   font = dict(color = colors[i]))\n",
    "    \n",
    "    return(fig)\n",
    "\n",
    "app.run_server(mode='external', port = 8069, dev_tools_ui=True, debug=True,\n",
    "              dev_tools_hot_reload =True, threaded=True)"
   ]
  }
 ],
 "metadata": {
  "kernelspec": {
   "display_name": "Python 3 (ipykernel)",
   "language": "python",
   "name": "python3"
  },
  "language_info": {
   "codemirror_mode": {
    "name": "ipython",
    "version": 3
   },
   "file_extension": ".py",
   "mimetype": "text/x-python",
   "name": "python",
   "nbconvert_exporter": "python",
   "pygments_lexer": "ipython3",
   "version": "3.10.6"
  },
  "widgets": {
   "application/vnd.jupyter.widget-state+json": {
    "state": {},
    "version_major": 2,
    "version_minor": 0
   }
  }
 },
 "nbformat": 4,
 "nbformat_minor": 5
}
