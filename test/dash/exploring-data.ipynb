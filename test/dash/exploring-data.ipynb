{
 "cells": [
  {
   "cell_type": "code",
   "execution_count": 8,
   "id": "0011165f-4d6d-4d56-a2f0-4efd13bdc0b5",
   "metadata": {
    "tags": []
   },
   "outputs": [],
   "source": [
    "options=[{'label': name, 'value': name}\n",
    "         for  name in ['John', 'Joe', 'Jane']\n",
    "        ]"
   ]
  },
  {
   "cell_type": "code",
   "execution_count": 4,
   "id": "b37b247f-64bc-4f7d-b6c4-7d4c0e5642ba",
   "metadata": {
    "tags": []
   },
   "outputs": [
    {
     "data": {
      "text/plain": [
       "[{'label': 'John', 'value': 'John'},\n",
       " {'label': 'Joe', 'value': 'Joe'},\n",
       " {'label': 'Jane', 'value': 'Jane'}]"
      ]
     },
     "execution_count": 4,
     "metadata": {},
     "output_type": "execute_result"
    }
   ],
   "source": [
    "options"
   ]
  },
  {
   "cell_type": "code",
   "execution_count": 6,
   "id": "2f927c1b-fb8b-433a-a12f-1a69e107bd92",
   "metadata": {
    "tags": []
   },
   "outputs": [
    {
     "data": {
      "text/plain": [
       "list"
      ]
     },
     "execution_count": 6,
     "metadata": {},
     "output_type": "execute_result"
    }
   ],
   "source": [
    "type(options)"
   ]
  },
  {
   "cell_type": "code",
   "execution_count": null,
   "id": "2d44a32d-deec-4982-bb07-ab3b62db8a05",
   "metadata": {},
   "outputs": [],
   "source": []
  }
 ],
 "metadata": {
  "kernelspec": {
   "display_name": "Python 3 (ipykernel)",
   "language": "python",
   "name": "python3"
  },
  "language_info": {
   "codemirror_mode": {
    "name": "ipython",
    "version": 3
   },
   "file_extension": ".py",
   "mimetype": "text/x-python",
   "name": "python",
   "nbconvert_exporter": "python",
   "pygments_lexer": "ipython3",
   "version": "3.10.6"
  },
  "widgets": {
   "application/vnd.jupyter.widget-state+json": {
    "state": {},
    "version_major": 2,
    "version_minor": 0
   }
  }
 },
 "nbformat": 4,
 "nbformat_minor": 5
}
