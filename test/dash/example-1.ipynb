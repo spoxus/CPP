{
 "cells": [
  {
   "cell_type": "code",
   "execution_count": 1,
   "id": "6775c133-45f3-4834-aea9-8eb14e4d80bb",
   "metadata": {
    "tags": []
   },
   "outputs": [
    {
     "name": "stderr",
     "output_type": "stream",
     "text": [
      "/tmp/ipykernel_10917/2136386824.py:3: UserWarning: \n",
      "The dash_core_components package is deprecated. Please replace\n",
      "`import dash_core_components as dcc` with `from dash import dcc`\n",
      "  import dash_core_components as dcc\n"
     ]
    },
    {
     "ename": "AttributeError",
     "evalue": "module 'dash' has no attribute 'Div'",
     "output_type": "error",
     "traceback": [
      "\u001b[0;31m---------------------------------------------------------------------------\u001b[0m",
      "\u001b[0;31mAttributeError\u001b[0m                            Traceback (most recent call last)",
      "Cell \u001b[0;32mIn[1], line 15\u001b[0m\n\u001b[1;32m     13\u001b[0m figure \u001b[38;5;241m=\u001b[39m \u001b[38;5;28mdict\u001b[39m(data\u001b[38;5;241m=\u001b[39m[{\u001b[38;5;124m'\u001b[39m\u001b[38;5;124mx\u001b[39m\u001b[38;5;124m'\u001b[39m: [], \u001b[38;5;124m'\u001b[39m\u001b[38;5;124my\u001b[39m\u001b[38;5;124m'\u001b[39m: []}], layout\u001b[38;5;241m=\u001b[39m\u001b[38;5;28mdict\u001b[39m(xaxis\u001b[38;5;241m=\u001b[39m\u001b[38;5;28mdict\u001b[39m(\u001b[38;5;28mrange\u001b[39m\u001b[38;5;241m=\u001b[39m[\u001b[38;5;241m-\u001b[39m\u001b[38;5;241m1\u001b[39m, \u001b[38;5;241m1\u001b[39m]), yaxis\u001b[38;5;241m=\u001b[39m\u001b[38;5;28mdict\u001b[39m(\u001b[38;5;28mrange\u001b[39m\u001b[38;5;241m=\u001b[39m[\u001b[38;5;241m-\u001b[39m\u001b[38;5;241m1\u001b[39m, \u001b[38;5;241m1\u001b[39m])))\n\u001b[1;32m     14\u001b[0m app \u001b[38;5;241m=\u001b[39m dash\u001b[38;5;241m.\u001b[39mDash(\u001b[38;5;18m__name__\u001b[39m, update_title\u001b[38;5;241m=\u001b[39m\u001b[38;5;28;01mNone\u001b[39;00m)  \u001b[38;5;66;03m# remove \"Updating...\" from title\u001b[39;00m\n\u001b[0;32m---> 15\u001b[0m app\u001b[38;5;241m.\u001b[39mlayout \u001b[38;5;241m=\u001b[39m \u001b[43mhtml\u001b[49m\u001b[38;5;241;43m.\u001b[39;49m\u001b[43mDiv\u001b[49m([dcc\u001b[38;5;241m.\u001b[39mGraph(\u001b[38;5;28mid\u001b[39m\u001b[38;5;241m=\u001b[39m\u001b[38;5;124m'\u001b[39m\u001b[38;5;124mgraph\u001b[39m\u001b[38;5;124m'\u001b[39m, figure\u001b[38;5;241m=\u001b[39mfigure), dcc\u001b[38;5;241m.\u001b[39mInterval(\u001b[38;5;28mid\u001b[39m\u001b[38;5;241m=\u001b[39m\u001b[38;5;124m\"\u001b[39m\u001b[38;5;124minterval\u001b[39m\u001b[38;5;124m\"\u001b[39m)])\n\u001b[1;32m     18\u001b[0m \u001b[38;5;129m@app\u001b[39m\u001b[38;5;241m.\u001b[39mcallback(Output(\u001b[38;5;124m'\u001b[39m\u001b[38;5;124mgraph\u001b[39m\u001b[38;5;124m'\u001b[39m, \u001b[38;5;124m'\u001b[39m\u001b[38;5;124mextendData\u001b[39m\u001b[38;5;124m'\u001b[39m), [Input(\u001b[38;5;124m'\u001b[39m\u001b[38;5;124minterval\u001b[39m\u001b[38;5;124m'\u001b[39m, \u001b[38;5;124m'\u001b[39m\u001b[38;5;124mn_intervals\u001b[39m\u001b[38;5;124m'\u001b[39m)])\n\u001b[1;32m     19\u001b[0m \u001b[38;5;28;01mdef\u001b[39;00m \u001b[38;5;21mupdate_data\u001b[39m(n_intervals):\n\u001b[1;32m     20\u001b[0m     index \u001b[38;5;241m=\u001b[39m n_intervals \u001b[38;5;241m%\u001b[39m resolution\n",
      "\u001b[0;31mAttributeError\u001b[0m: module 'dash' has no attribute 'Div'"
     ]
    }
   ],
   "source": [
    "import dash\n",
    "import dash as html\n",
    "import dash_core_components as dcc\n",
    "import numpy as np\n",
    "\n",
    "from dash.dependencies import Input, Output\n",
    "\n",
    "# Example data (a circle).\n",
    "resolution = 20\n",
    "t = np.linspace(0, np.pi * 2, resolution)\n",
    "x, y = np.cos(t), np.sin(t)\n",
    "# Example app.\n",
    "figure = dict(data=[{'x': [], 'y': []}], layout=dict(xaxis=dict(range=[-1, 1]), yaxis=dict(range=[-1, 1])))\n",
    "app = dash.Dash(__name__, update_title=None)  # remove \"Updating...\" from title\n",
    "app.layout = html.Div([dcc.Graph(id='graph', figure=figure), dcc.Interval(id=\"interval\")])\n",
    "\n",
    "\n",
    "@app.callback(Output('graph', 'extendData'), [Input('interval', 'n_intervals')])\n",
    "def update_data(n_intervals):\n",
    "    index = n_intervals % resolution\n",
    "    # tuple is (dict of new data, target trace index, number of points to keep)\n",
    "    return dict(x=[[x[index]]], y=[[y[index]]]), [0], 10\n",
    "\n",
    "\n",
    "if __name__ == '__main__':\n",
    "    app.run_server()"
   ]
  },
  {
   "cell_type": "code",
   "execution_count": null,
   "id": "6440ffeb-6247-432c-bee9-558ecaf7a0b6",
   "metadata": {},
   "outputs": [],
   "source": []
  }
 ],
 "metadata": {
  "kernelspec": {
   "display_name": "Python 3 (ipykernel)",
   "language": "python",
   "name": "python3"
  },
  "language_info": {
   "codemirror_mode": {
    "name": "ipython",
    "version": 3
   },
   "file_extension": ".py",
   "mimetype": "text/x-python",
   "name": "python",
   "nbconvert_exporter": "python",
   "pygments_lexer": "ipython3",
   "version": "3.10.6"
  },
  "widgets": {
   "application/vnd.jupyter.widget-state+json": {
    "state": {},
    "version_major": 2,
    "version_minor": 0
   }
  }
 },
 "nbformat": 4,
 "nbformat_minor": 5
}
