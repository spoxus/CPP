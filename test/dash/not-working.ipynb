{
 "cells": [
  {
   "cell_type": "code",
   "execution_count": 3,
   "id": "5a33531f-e282-4b69-891f-3de434bc8e40",
   "metadata": {
    "tags": []
   },
   "outputs": [
    {
     "name": "stdout",
     "output_type": "stream",
     "text": [
      "Dash is running on http://127.0.0.1:8069/\n",
      "\n",
      "Dash app running on http://127.0.0.1:8069/\n"
     ]
    }
   ],
   "source": [
    "import pandas as pd\n",
    "import numpy  as np\n",
    "import plotly.express as px\n",
    "import plotly.graph_objects as go\n",
    "from   jupyter_dash import JupyterDash\n",
    "from   dash import dcc\n",
    "from   dash import html\n",
    "from   dash.dependencies import Input, Output\n",
    "\n",
    "# code and plot setup\n",
    "# settings\n",
    "pd.options.plotting.backend = \"plotly\"\n",
    "countdown = 20\n",
    "#global df\n",
    "\n",
    "# sample dataframe of a wide format\n",
    "np.random.seed(4); cols = list('abc')\n",
    "X = np.random.randn(50,len(cols))  \n",
    "df=pd.DataFrame(X, columns=cols)\n",
    "df.iloc[0]=0;\n",
    "\n",
    "# plotly figure\n",
    "fig = df.plot(template = 'plotly_dark')\n",
    "\n",
    "app = JupyterDash(__name__)\n",
    "app.layout = html.Div([\n",
    "    html.H1(\"Streaming of random data\"),\n",
    "            dcc.Interval(\n",
    "            id='interval-component',\n",
    "            interval=1*1000, # in milliseconds\n",
    "            n_intervals=0\n",
    "        ),\n",
    "    dcc.Graph(id='graph'),\n",
    "])\n",
    "\n",
    "# Define callback to update graph\n",
    "@app.callback(\n",
    "    Output('graph', 'figure'),\n",
    "    [Input('interval-component', \"n_intervals\")]\n",
    ")\n",
    "def streamFig(value):\n",
    "    \n",
    "    global df\n",
    "    \n",
    "    Y = np.random.randn(1,len(cols))  \n",
    "    df2 = pd.DataFrame(Y, columns = cols)\n",
    "    df = df.append(df2, ignore_index=True)#.reset_index()\n",
    "    df.tail()\n",
    "    df3=df.copy()\n",
    "    df3 = df3.cumsum()\n",
    "    fig = df3.plot(template = 'plotly_dark')\n",
    "    #fig.show()\n",
    "    return(fig)\n",
    "\n",
    "app.run_server(mode='external', port = 8069, dev_tools_ui=True, #debug=True,\n",
    "              dev_tools_hot_reload =True, threaded=True)"
   ]
  },
  {
   "cell_type": "code",
   "execution_count": null,
   "id": "3603e6d3-1319-4921-a85a-2629b47fc70f",
   "metadata": {},
   "outputs": [],
   "source": []
  }
 ],
 "metadata": {
  "kernelspec": {
   "display_name": "Python 3 (ipykernel)",
   "language": "python",
   "name": "python3"
  },
  "language_info": {
   "codemirror_mode": {
    "name": "ipython",
    "version": 3
   },
   "file_extension": ".py",
   "mimetype": "text/x-python",
   "name": "python",
   "nbconvert_exporter": "python",
   "pygments_lexer": "ipython3",
   "version": "3.10.6"
  },
  "widgets": {
   "application/vnd.jupyter.widget-state+json": {
    "state": {},
    "version_major": 2,
    "version_minor": 0
   }
  }
 },
 "nbformat": 4,
 "nbformat_minor": 5
}
