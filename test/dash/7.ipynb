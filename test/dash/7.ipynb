{
 "cells": [
  {
   "cell_type": "code",
   "execution_count": 2,
   "id": "6ecf033e-2b2b-4301-8c73-21260552e1d3",
   "metadata": {
    "tags": []
   },
   "outputs": [],
   "source": [
    "from   dash import html, dcc, Input, Output, State, Dash\n",
    "import random\n",
    "\n",
    "app = Dash(__name__)\n",
    "\n",
    "\n",
    "data = [\n",
    "        # trace 1\n",
    "        {'x': [0],\n",
    "         'y': [0],\n",
    "         'name': 'bid',\n",
    "         'mode': 'lines+markers'\n",
    "        },\n",
    "        # trace 2\n",
    "        {'x': [0],\n",
    "         'y': [0],\n",
    "         'name': 'ask',\n",
    "         'mode': 'lines'\n",
    "        },\n",
    "        # trace 3\n",
    "        {'x': [0],\n",
    "         'y': [0],\n",
    "         'name': 'SMA1',\n",
    "         'mode': 'markers'\n",
    "        }\n",
    "]"
   ]
  },
  {
   "cell_type": "code",
   "execution_count": 3,
   "id": "98be8679-b662-4b9e-a24a-f2f6eb262b84",
   "metadata": {
    "tags": []
   },
   "outputs": [
    {
     "data": {
      "text/plain": [
       "[{'x': [0], 'y': [0], 'name': 'bid', 'mode': 'lines+markers'},\n",
       " {'x': [0], 'y': [0], 'name': 'ask', 'mode': 'lines'},\n",
       " {'x': [0], 'y': [0], 'name': 'SMA1', 'mode': 'markers'}]"
      ]
     },
     "execution_count": 3,
     "metadata": {},
     "output_type": "execute_result"
    }
   ],
   "source": [
    "data"
   ]
  },
  {
   "cell_type": "code",
   "execution_count": 5,
   "id": "d29c94a5-f291-4568-a615-c7c8eb430b05",
   "metadata": {
    "tags": []
   },
   "outputs": [
    {
     "data": {
      "text/plain": [
       "list"
      ]
     },
     "execution_count": 5,
     "metadata": {},
     "output_type": "execute_result"
    }
   ],
   "source": [
    "type(data)"
   ]
  },
  {
   "cell_type": "code",
   "execution_count": 7,
   "id": "0bb977ea-de61-4a07-89c4-fbab1eb9d6b0",
   "metadata": {},
   "outputs": [],
   "source": [
    "dd = dict(data=data)"
   ]
  },
  {
   "cell_type": "code",
   "execution_count": 8,
   "id": "c1461660-39e7-44f8-a115-bf6242f7fe7e",
   "metadata": {
    "tags": []
   },
   "outputs": [
    {
     "data": {
      "text/plain": [
       "{'data': [{'x': [0], 'y': [0], 'name': 'bid', 'mode': 'lines+markers'},\n",
       "  {'x': [0], 'y': [0], 'name': 'ask', 'mode': 'lines'},\n",
       "  {'x': [0], 'y': [0], 'name': 'SMA1', 'mode': 'markers'}]}"
      ]
     },
     "execution_count": 8,
     "metadata": {},
     "output_type": "execute_result"
    }
   ],
   "source": [
    "dd"
   ]
  },
  {
   "cell_type": "code",
   "execution_count": 9,
   "id": "cb3494fd-8df7-43e7-8777-21f04ef7b3c1",
   "metadata": {
    "tags": []
   },
   "outputs": [
    {
     "data": {
      "text/plain": [
       "dict_keys(['data'])"
      ]
     },
     "execution_count": 9,
     "metadata": {},
     "output_type": "execute_result"
    }
   ],
   "source": [
    "dd.keys()"
   ]
  },
  {
   "cell_type": "code",
   "execution_count": 11,
   "id": "7ce62f83-a7f0-4099-9ede-6b3dd7218bbf",
   "metadata": {
    "tags": []
   },
   "outputs": [
    {
     "data": {
      "text/plain": [
       "[{'x': [0], 'y': [0], 'name': 'bid', 'mode': 'lines+markers'},\n",
       " {'x': [0], 'y': [0], 'name': 'ask', 'mode': 'lines'},\n",
       " {'x': [0], 'y': [0], 'name': 'SMA1', 'mode': 'markers'}]"
      ]
     },
     "execution_count": 11,
     "metadata": {},
     "output_type": "execute_result"
    }
   ],
   "source": [
    "dd['data']"
   ]
  }
 ],
 "metadata": {
  "kernelspec": {
   "display_name": "Python 3 (ipykernel)",
   "language": "python",
   "name": "python3"
  },
  "language_info": {
   "codemirror_mode": {
    "name": "ipython",
    "version": 3
   },
   "file_extension": ".py",
   "mimetype": "text/x-python",
   "name": "python",
   "nbconvert_exporter": "python",
   "pygments_lexer": "ipython3",
   "version": "3.10.6"
  },
  "widgets": {
   "application/vnd.jupyter.widget-state+json": {
    "state": {},
    "version_major": 2,
    "version_minor": 0
   }
  }
 },
 "nbformat": 4,
 "nbformat_minor": 5
}
