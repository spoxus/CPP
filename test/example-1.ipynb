{
 "cells": [
  {
   "cell_type": "code",
   "execution_count": null,
   "id": "6775c133-45f3-4834-aea9-8eb14e4d80bb",
   "metadata": {
    "tags": []
   },
   "outputs": [],
   "source": [
    "import dash\n",
    "import dash as html\n",
    "import dash_core_components as dcc\n",
    "import numpy as np\n",
    "\n",
    "from dash.dependencies import Input, Output\n",
    "\n",
    "# Example data (a circle).\n",
    "resolution = 20\n",
    "t = np.linspace(0, np.pi * 2, resolution)\n",
    "x, y = np.cos(t), np.sin(t)\n",
    "# Example app.\n",
    "figure = dict(data=[{'x': [], 'y': []}], layout=dict(xaxis=dict(range=[-1, 1]), yaxis=dict(range=[-1, 1])))\n",
    "app = dash.Dash(__name__, update_title=None)  # remove \"Updating...\" from title\n",
    "app.layout = html.Div([dcc.Graph(id='graph', figure=figure), dcc.Interval(id=\"interval\")])\n",
    "\n",
    "\n",
    "@app.callback(Output('graph', 'extendData'), [Input('interval', 'n_intervals')])\n",
    "def update_data(n_intervals):\n",
    "    index = n_intervals % resolution\n",
    "    # tuple is (dict of new data, target trace index, number of points to keep)\n",
    "    return dict(x=[[x[index]]], y=[[y[index]]]), [0], 10\n",
    "\n",
    "\n",
    "if __name__ == '__main__':\n",
    "    app.run_server()"
   ]
  }
 ],
 "metadata": {
  "kernelspec": {
   "display_name": "Python 3 (ipykernel)",
   "language": "python",
   "name": "python3"
  },
  "language_info": {
   "codemirror_mode": {
    "name": "ipython",
    "version": 3
   },
   "file_extension": ".py",
   "mimetype": "text/x-python",
   "name": "python",
   "nbconvert_exporter": "python",
   "pygments_lexer": "ipython3",
   "version": "3.10.6"
  },
  "widgets": {
   "application/vnd.jupyter.widget-state+json": {
    "state": {},
    "version_major": 2,
    "version_minor": 0
   }
  }
 },
 "nbformat": 4,
 "nbformat_minor": 5
}
