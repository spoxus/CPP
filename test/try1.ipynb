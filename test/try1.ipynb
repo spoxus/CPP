{
 "cells": [
  {
   "cell_type": "code",
   "execution_count": 1,
   "id": "5a33531f-e282-4b69-891f-3de434bc8e40",
   "metadata": {
    "tags": []
   },
   "outputs": [],
   "source": [
    "import pandas as pd\n",
    "import numpy as np\n",
    "import plotly.express as px\n",
    "import plotly.graph_objects as go\n",
    "from   jupyter_dash import JupyterDash\n",
    "from   dash import dcc\n",
    "from   dash import html\n",
    "from   dash.dependencies import Input, Output"
   ]
  },
  {
   "cell_type": "code",
   "execution_count": 2,
   "id": "3603e6d3-1319-4921-a85a-2629b47fc70f",
   "metadata": {},
   "outputs": [],
   "source": [
    "# code and plot setup\n",
    "# settings\n",
    "pd.options.plotting.backend = \"plotly\"\n",
    "countdown = 20"
   ]
  },
  {
   "cell_type": "code",
   "execution_count": 5,
   "id": "2d090174-0ca2-406b-ba5d-bd15b6805ab0",
   "metadata": {
    "tags": []
   },
   "outputs": [],
   "source": [
    "#global df\n",
    "# sample dataframe of a wide format\n",
    "np.random.seed(4); cols = list('abc')\n",
    "X  = np.random.randn(50, len(cols))  \n",
    "df = pd.DataFrame(X, columns=cols)\n",
    "df.iloc[0] = 0;"
   ]
  },
  {
   "cell_type": "code",
   "execution_count": null,
   "id": "b918c32f-82ba-48af-bc4c-b77784470d92",
   "metadata": {
    "tags": []
   },
   "outputs": [],
   "source": [
    "df"
   ]
  },
  {
   "cell_type": "code",
   "execution_count": 7,
   "id": "8d5e75c4-122a-4166-a911-b88992b398c2",
   "metadata": {
    "tags": []
   },
   "outputs": [],
   "source": [
    "# plotly figure\n",
    "fig = df.plot(template = 'plotly_dark')\n",
    "\n",
    "app = JupyterDash(__name__)\n",
    "app.layout = html.Div([\n",
    "    html.H1(\"Streaming of random data\"),\n",
    "            dcc.Interval(\n",
    "            id='interval-component',\n",
    "            interval=1*1000, # in milliseconds\n",
    "            n_intervals=0\n",
    "        ),\n",
    "    dcc.Graph(id='graph'),\n",
    "])"
   ]
  },
  {
   "cell_type": "code",
   "execution_count": 12,
   "id": "fcf61888-d5d5-4fa5-bbd0-f5d98a9caacf",
   "metadata": {
    "tags": []
   },
   "outputs": [
    {
     "ename": "SyntaxError",
     "evalue": "incomplete input (3524283508.py, line 5)",
     "output_type": "error",
     "traceback": [
      "\u001b[0;36m  Cell \u001b[0;32mIn[12], line 5\u001b[0;36m\u001b[0m\n\u001b[0;31m    )\u001b[0m\n\u001b[0m     ^\u001b[0m\n\u001b[0;31mSyntaxError\u001b[0m\u001b[0;31m:\u001b[0m incomplete input\n"
     ]
    }
   ],
   "source": [
    "# Define callback to update graph\n",
    "@app.callback(\n",
    "    Output('graph', 'figure'),\n",
    "    [Input ('interval-component', \"n_intervals\")]\n",
    ")"
   ]
  },
  {
   "cell_type": "code",
   "execution_count": null,
   "id": "de297c63-80e1-40a5-90b6-f711fdfa3be2",
   "metadata": {},
   "outputs": [],
   "source": [
    "def streamFig(value):\n",
    "    \n",
    "    global df\n",
    "    \n",
    "    Y = np.random.randn(1,len(cols))  \n",
    "    df2 = pd.DataFrame(Y, columns = cols)\n",
    "    df = df.append(df2, ignore_index=True)#.reset_index()\n",
    "    df.tail()\n",
    "    df3=df.copy()\n",
    "    df3 = df3.cumsum()\n",
    "    fig = df3.plot(template = 'plotly_dark')\n",
    "    #fig.show()\n",
    "    return(fig)\n",
    "\n",
    "app.run_server(mode='external', port = 8069, dev_tools_ui=True, #debug=True,\n",
    "              dev_tools_hot_reload =True, threaded=True)"
   ]
  }
 ],
 "metadata": {
  "kernelspec": {
   "display_name": "Python 3 (ipykernel)",
   "language": "python",
   "name": "python3"
  },
  "language_info": {
   "codemirror_mode": {
    "name": "ipython",
    "version": 3
   },
   "file_extension": ".py",
   "mimetype": "text/x-python",
   "name": "python",
   "nbconvert_exporter": "python",
   "pygments_lexer": "ipython3",
   "version": "3.10.6"
  },
  "widgets": {
   "application/vnd.jupyter.widget-state+json": {
    "state": {},
    "version_major": 2,
    "version_minor": 0
   }
  }
 },
 "nbformat": 4,
 "nbformat_minor": 5
}
