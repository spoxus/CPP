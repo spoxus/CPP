{
 "cells": [
  {
   "cell_type": "code",
   "execution_count": 1,
   "id": "321bb679-c604-4120-83b2-1496c64657de",
   "metadata": {
    "tags": []
   },
   "outputs": [],
   "source": [
    "import numpy as np\n",
    "from sklearn.datasets import make_classification"
   ]
  },
  {
   "cell_type": "code",
   "execution_count": 5,
   "id": "65907fab-6193-4814-9b74-6057cf5cc717",
   "metadata": {
    "tags": []
   },
   "outputs": [],
   "source": [
    "x, y = make_classification(n_samples = 10000, weights = (0.9, 0.1))"
   ]
  },
  {
   "cell_type": "code",
   "execution_count": 6,
   "id": "dfc9cda2-e756-432e-9263-fec98b0319e6",
   "metadata": {
    "tags": []
   },
   "outputs": [],
   "source": [
    "index = np.argsort(np.random.random(y.shape[0]))"
   ]
  },
  {
   "cell_type": "code",
   "execution_count": 7,
   "id": "1467a0cc-8182-49a7-866b-560f6113a774",
   "metadata": {
    "tags": []
   },
   "outputs": [
    {
     "data": {
      "text/plain": [
       "array([9741, 8042, 3216, 4692, 1818, 6740,  858, 7667, 3468, 2173])"
      ]
     },
     "execution_count": 7,
     "metadata": {},
     "output_type": "execute_result"
    }
   ],
   "source": [
    "index[:10]"
   ]
  },
  {
   "cell_type": "code",
   "execution_count": 9,
   "id": "60984ad3-15b7-4c7d-80a7-c68832918d4f",
   "metadata": {
    "tags": []
   },
   "outputs": [],
   "source": [
    "ntrn = int(0.9 * y.shape[0])"
   ]
  },
  {
   "cell_type": "code",
   "execution_count": 10,
   "id": "30ad29be-952e-4764-97ee-81a0de5aa678",
   "metadata": {
    "tags": []
   },
   "outputs": [],
   "source": [
    "nval = int(0.05 * y.shape[0])"
   ]
  },
  {
   "cell_type": "code",
   "execution_count": 11,
   "id": "f4b63901-80fb-459d-aef2-8d486661f5fe",
   "metadata": {
    "tags": []
   },
   "outputs": [],
   "source": [
    "xtrn = x[:ntrn]"
   ]
  },
  {
   "cell_type": "code",
   "execution_count": 12,
   "id": "0aeadbce-8e5c-49fa-98eb-0df499fb71a0",
   "metadata": {
    "tags": []
   },
   "outputs": [],
   "source": [
    "ytrn = y[:ntrn]"
   ]
  },
  {
   "cell_type": "code",
   "execution_count": 14,
   "id": "6809096b-5b4d-4ee7-8298-2954741101e0",
   "metadata": {
    "tags": []
   },
   "outputs": [],
   "source": [
    "xval = x[ntrn:(ntrn + nval)]"
   ]
  },
  {
   "cell_type": "code",
   "execution_count": 16,
   "id": "937611ec-1712-4dc0-b9d0-615371f42c10",
   "metadata": {
    "tags": []
   },
   "outputs": [],
   "source": [
    "yval = y[ntrn:(ntrn + nval)]"
   ]
  },
  {
   "cell_type": "code",
   "execution_count": 17,
   "id": "ab8f602d-65fe-40b6-a6ce-118c95b5acee",
   "metadata": {
    "tags": []
   },
   "outputs": [],
   "source": [
    "xtxt = x[(ntrn + nval):]"
   ]
  },
  {
   "cell_type": "code",
   "execution_count": 19,
   "id": "729d6eef-dbe5-4611-b5e1-a8ea76b9e5ba",
   "metadata": {
    "tags": []
   },
   "outputs": [],
   "source": [
    "ytst = y[(ntrn + nval):]"
   ]
  }
 ],
 "metadata": {
  "kernelspec": {
   "display_name": "Python 3 (ipykernel)",
   "language": "python",
   "name": "python3"
  },
  "language_info": {
   "codemirror_mode": {
    "name": "ipython",
    "version": 3
   },
   "file_extension": ".py",
   "mimetype": "text/x-python",
   "name": "python",
   "nbconvert_exporter": "python",
   "pygments_lexer": "ipython3",
   "version": "3.10.6"
  }
 },
 "nbformat": 4,
 "nbformat_minor": 5
}
