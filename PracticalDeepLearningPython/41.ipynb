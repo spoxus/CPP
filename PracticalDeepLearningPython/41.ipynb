{
 "cells": [
  {
   "cell_type": "code",
   "execution_count": 2,
   "id": "42895e99-8c5f-457a-852d-5df6bcc00cf2",
   "metadata": {
    "tags": []
   },
   "outputs": [],
   "source": [
    "import numpy as np\n",
    "from sklearn.datasets import make_classification"
   ]
  },
  {
   "cell_type": "code",
   "execution_count": 3,
   "id": "b279da62-5935-480c-a9fe-a9b522295912",
   "metadata": {
    "tags": []
   },
   "outputs": [],
   "source": [
    "a, b = make_classification(n_samples = 10000, weights = (0.9, 0.1))"
   ]
  },
  {
   "cell_type": "code",
   "execution_count": 25,
   "id": "56d3fe47-b88f-42e5-8047-509c9cbf95ad",
   "metadata": {
    "tags": []
   },
   "outputs": [
    {
     "data": {
      "text/plain": [
       "array([[-0.95763173,  0.2954063 ,  0.9958381 , -0.0767912 , -0.98657742,\n",
       "         0.14780149,  0.99239241,  0.33822725,  0.47414488,  0.48979844,\n",
       "         1.35207445,  0.32085521, -1.67460454,  0.99564083,  0.32215301,\n",
       "         0.79706882, -0.843123  , -1.41009579,  0.75518612, -1.2273035 ],\n",
       "       [ 0.50021438, -0.16326352, -0.09804697,  1.08737501,  0.11803062,\n",
       "         0.11386563,  2.01354346,  1.82154394, -0.42965362, -0.74284651,\n",
       "        -0.62486881, -2.05594263, -0.02997814,  1.68738144, -0.35172473,\n",
       "         1.0663552 , -0.29756513, -0.6342671 , -1.4870695 ,  1.92539235],\n",
       "       [-1.93258668,  0.03241032,  1.08446185,  1.47834395,  0.7051982 ,\n",
       "         0.83530513, -1.69938901,  0.80823771,  0.34456869,  1.50975491,\n",
       "         0.14241682,  0.18657754, -1.91103169, -0.00770478, -0.12038554,\n",
       "         1.38148995, -0.95014926,  0.29981526, -0.53860459, -1.4865979 ],\n",
       "       [-0.98422309,  0.10614188,  0.85948056,  0.87001011,  1.41616237,\n",
       "         1.11410423, -0.89112108, -0.56709284,  0.85117946, -0.88023605,\n",
       "         2.60459481, -0.44302258, -1.22043859,  0.0712739 ,  2.11472711,\n",
       "        -0.63323665,  0.06614047,  1.46624837, -0.14376604,  1.07886055],\n",
       "       [ 0.53551812,  1.55338922,  0.55945426, -1.59747109, -0.70192318,\n",
       "        -0.19213162,  1.18689372, -2.7922475 ,  0.04367896,  0.58324327,\n",
       "         0.46416838, -2.03147254, -1.054085  ,  1.43336319,  1.0770587 ,\n",
       "         1.11349044, -1.73377157, -0.77668229, -1.23734242,  0.06065752]])"
      ]
     },
     "execution_count": 25,
     "metadata": {},
     "output_type": "execute_result"
    }
   ],
   "source": [
    "a[:5]"
   ]
  },
  {
   "cell_type": "code",
   "execution_count": 4,
   "id": "01a3dea8-1e7f-42cd-8ab0-941bdf2f158a",
   "metadata": {
    "tags": []
   },
   "outputs": [
    {
     "data": {
      "text/plain": [
       "array([0, 1, 0, 0, 0, 0, 0, 0, 0, 0])"
      ]
     },
     "execution_count": 4,
     "metadata": {},
     "output_type": "execute_result"
    }
   ],
   "source": [
    "b[:10]"
   ]
  },
  {
   "cell_type": "code",
   "execution_count": 5,
   "id": "a13fa920-ce6b-4866-9631-60a9a0245517",
   "metadata": {},
   "outputs": [
    {
     "data": {
      "text/plain": [
       "(10000,)"
      ]
     },
     "execution_count": 5,
     "metadata": {},
     "output_type": "execute_result"
    }
   ],
   "source": [
    "b.shape"
   ]
  },
  {
   "cell_type": "code",
   "execution_count": 6,
   "id": "ce39cd3f-30a3-4933-9bf5-61b1cd28563c",
   "metadata": {
    "tags": []
   },
   "outputs": [],
   "source": [
    "id = np.where(b == 0)"
   ]
  },
  {
   "cell_type": "code",
   "execution_count": 7,
   "id": "c74c4f71-51cf-4531-bad1-9cd961b36d02",
   "metadata": {
    "tags": []
   },
   "outputs": [
    {
     "data": {
      "text/plain": [
       "(array([   0,    2,    3, ..., 9997, 9998, 9999]),)"
      ]
     },
     "execution_count": 7,
     "metadata": {},
     "output_type": "execute_result"
    }
   ],
   "source": [
    "id"
   ]
  },
  {
   "cell_type": "code",
   "execution_count": 8,
   "id": "00a02137-d178-4d68-a8cd-8911b1705be8",
   "metadata": {
    "tags": []
   },
   "outputs": [
    {
     "data": {
      "text/plain": [
       "tuple"
      ]
     },
     "execution_count": 8,
     "metadata": {},
     "output_type": "execute_result"
    }
   ],
   "source": [
    "type(id)"
   ]
  },
  {
   "cell_type": "code",
   "execution_count": 10,
   "id": "65e29503-61b6-401e-b217-88b9d9a82b36",
   "metadata": {
    "tags": []
   },
   "outputs": [],
   "source": [
    "idx = id[0]"
   ]
  },
  {
   "cell_type": "code",
   "execution_count": 13,
   "id": "b9871fc7-3add-4db4-a438-a0d4a285bd54",
   "metadata": {
    "tags": []
   },
   "outputs": [
    {
     "data": {
      "text/plain": [
       "array([ 0,  2,  3,  4,  5,  6,  7,  8,  9, 10, 11, 12, 13, 14, 15, 16, 17,\n",
       "       18, 19, 20, 21, 22, 23, 24, 25, 26, 27, 29, 31, 32])"
      ]
     },
     "execution_count": 13,
     "metadata": {},
     "output_type": "execute_result"
    }
   ],
   "source": [
    "idx[:30]"
   ]
  },
  {
   "cell_type": "code",
   "execution_count": 14,
   "id": "afa4e82d-a965-4e6c-b6f5-f8a9cad162c5",
   "metadata": {
    "tags": []
   },
   "outputs": [
    {
     "data": {
      "text/plain": [
       "numpy.ndarray"
      ]
     },
     "execution_count": 14,
     "metadata": {},
     "output_type": "execute_result"
    }
   ],
   "source": [
    "type(idx)"
   ]
  },
  {
   "cell_type": "code",
   "execution_count": 13,
   "id": "616c9a6f-1a8e-4c0b-bec1-f9289de32b0d",
   "metadata": {
    "tags": []
   },
   "outputs": [
    {
     "data": {
      "text/plain": [
       "(8959,)"
      ]
     },
     "execution_count": 13,
     "metadata": {},
     "output_type": "execute_result"
    }
   ],
   "source": [
    "idx.shape"
   ]
  },
  {
   "cell_type": "code",
   "execution_count": 14,
   "id": "26e03161-0aa7-4c7b-8a4b-ab4b3ac1e393",
   "metadata": {
    "tags": []
   },
   "outputs": [
    {
     "data": {
      "text/plain": [
       "44820886"
      ]
     },
     "execution_count": 14,
     "metadata": {},
     "output_type": "execute_result"
    }
   ],
   "source": [
    "idx.sum()"
   ]
  },
  {
   "cell_type": "code",
   "execution_count": 15,
   "id": "d3e7cdca-66e6-4202-999d-70111a832f5f",
   "metadata": {
    "tags": []
   },
   "outputs": [
    {
     "data": {
      "text/plain": [
       "array([   0,    2,    3, ..., 9997, 9998, 9999])"
      ]
     },
     "execution_count": 15,
     "metadata": {},
     "output_type": "execute_result"
    }
   ],
   "source": [
    "idx"
   ]
  },
  {
   "cell_type": "code",
   "execution_count": 23,
   "id": "b2aff4b7-225a-4bf7-ad29-d274838b7f0a",
   "metadata": {
    "tags": []
   },
   "outputs": [],
   "source": [
    "x0 = a[idx,:]"
   ]
  },
  {
   "cell_type": "code",
   "execution_count": 24,
   "id": "75503bee-0415-4668-b4e5-1e8f0ed3e9c7",
   "metadata": {
    "tags": []
   },
   "outputs": [
    {
     "data": {
      "text/plain": [
       "array([[-0.95763173,  0.2954063 ,  0.9958381 , -0.0767912 , -0.98657742,\n",
       "         0.14780149,  0.99239241,  0.33822725,  0.47414488,  0.48979844,\n",
       "         1.35207445,  0.32085521, -1.67460454,  0.99564083,  0.32215301,\n",
       "         0.79706882, -0.843123  , -1.41009579,  0.75518612, -1.2273035 ],\n",
       "       [-1.93258668,  0.03241032,  1.08446185,  1.47834395,  0.7051982 ,\n",
       "         0.83530513, -1.69938901,  0.80823771,  0.34456869,  1.50975491,\n",
       "         0.14241682,  0.18657754, -1.91103169, -0.00770478, -0.12038554,\n",
       "         1.38148995, -0.95014926,  0.29981526, -0.53860459, -1.4865979 ],\n",
       "       [-0.98422309,  0.10614188,  0.85948056,  0.87001011,  1.41616237,\n",
       "         1.11410423, -0.89112108, -0.56709284,  0.85117946, -0.88023605,\n",
       "         2.60459481, -0.44302258, -1.22043859,  0.0712739 ,  2.11472711,\n",
       "        -0.63323665,  0.06614047,  1.46624837, -0.14376604,  1.07886055],\n",
       "       [ 0.53551812,  1.55338922,  0.55945426, -1.59747109, -0.70192318,\n",
       "        -0.19213162,  1.18689372, -2.7922475 ,  0.04367896,  0.58324327,\n",
       "         0.46416838, -2.03147254, -1.054085  ,  1.43336319,  1.0770587 ,\n",
       "         1.11349044, -1.73377157, -0.77668229, -1.23734242,  0.06065752],\n",
       "       [-1.06413583,  0.29856239,  0.77585954, -1.60411403, -0.44036584,\n",
       "         1.51769535, -1.61995775,  1.19735533,  1.02700749,  0.17199002,\n",
       "         0.73446961, -0.44546507, -0.9701032 , -1.88226754,  1.20467335,\n",
       "        -1.34479588,  0.61523815,  0.35769259, -1.42089413,  0.30379725]])"
      ]
     },
     "execution_count": 24,
     "metadata": {},
     "output_type": "execute_result"
    }
   ],
   "source": [
    "x0[:5]"
   ]
  },
  {
   "cell_type": "code",
   "execution_count": 18,
   "id": "2b120d9f-867b-4087-9831-3701d218c819",
   "metadata": {
    "tags": []
   },
   "outputs": [
    {
     "data": {
      "text/plain": [
       "array([0, 0, 0, 0, 0, 0, 0, 0, 0, 0])"
      ]
     },
     "execution_count": 18,
     "metadata": {},
     "output_type": "execute_result"
    }
   ],
   "source": [
    "y0 = b[idx]\n",
    "y0[:10]"
   ]
  },
  {
   "cell_type": "code",
   "execution_count": 19,
   "id": "914f27cf-9db3-4423-a7f9-9cffb0784b08",
   "metadata": {
    "tags": []
   },
   "outputs": [
    {
     "data": {
      "text/plain": [
       "(10000, 20)"
      ]
     },
     "execution_count": 19,
     "metadata": {},
     "output_type": "execute_result"
    }
   ],
   "source": [
    "a.shape"
   ]
  },
  {
   "cell_type": "code",
   "execution_count": 20,
   "id": "72f50abe-4b3c-4b8a-813f-e1a408f0484e",
   "metadata": {},
   "outputs": [
    {
     "data": {
      "text/plain": [
       "array([[-0.95763173,  0.2954063 ,  0.9958381 , -0.0767912 , -0.98657742,\n",
       "         0.14780149,  0.99239241,  0.33822725,  0.47414488,  0.48979844,\n",
       "         1.35207445,  0.32085521, -1.67460454,  0.99564083,  0.32215301,\n",
       "         0.79706882, -0.843123  , -1.41009579,  0.75518612, -1.2273035 ],\n",
       "       [-1.93258668,  0.03241032,  1.08446185,  1.47834395,  0.7051982 ,\n",
       "         0.83530513, -1.69938901,  0.80823771,  0.34456869,  1.50975491,\n",
       "         0.14241682,  0.18657754, -1.91103169, -0.00770478, -0.12038554,\n",
       "         1.38148995, -0.95014926,  0.29981526, -0.53860459, -1.4865979 ],\n",
       "       [-0.98422309,  0.10614188,  0.85948056,  0.87001011,  1.41616237,\n",
       "         1.11410423, -0.89112108, -0.56709284,  0.85117946, -0.88023605,\n",
       "         2.60459481, -0.44302258, -1.22043859,  0.0712739 ,  2.11472711,\n",
       "        -0.63323665,  0.06614047,  1.46624837, -0.14376604,  1.07886055],\n",
       "       [ 0.53551812,  1.55338922,  0.55945426, -1.59747109, -0.70192318,\n",
       "        -0.19213162,  1.18689372, -2.7922475 ,  0.04367896,  0.58324327,\n",
       "         0.46416838, -2.03147254, -1.054085  ,  1.43336319,  1.0770587 ,\n",
       "         1.11349044, -1.73377157, -0.77668229, -1.23734242,  0.06065752],\n",
       "       [-1.06413583,  0.29856239,  0.77585954, -1.60411403, -0.44036584,\n",
       "         1.51769535, -1.61995775,  1.19735533,  1.02700749,  0.17199002,\n",
       "         0.73446961, -0.44546507, -0.9701032 , -1.88226754,  1.20467335,\n",
       "        -1.34479588,  0.61523815,  0.35769259, -1.42089413,  0.30379725]])"
      ]
     },
     "execution_count": 20,
     "metadata": {},
     "output_type": "execute_result"
    }
   ],
   "source": [
    "xx00 = a[idx]\n",
    "xx00[:5]"
   ]
  },
  {
   "cell_type": "code",
   "execution_count": 21,
   "id": "e145c563-4280-4d28-a74c-2111ae7a127d",
   "metadata": {},
   "outputs": [
    {
     "data": {
      "text/plain": [
       "(8955, 20)"
      ]
     },
     "execution_count": 21,
     "metadata": {},
     "output_type": "execute_result"
    }
   ],
   "source": [
    "xx00.shape"
   ]
  },
  {
   "cell_type": "code",
   "execution_count": 22,
   "id": "ba47e800-3bf9-4a9e-a44d-03d72331aa2a",
   "metadata": {
    "tags": []
   },
   "outputs": [
    {
     "data": {
      "text/plain": [
       "(8955, 20)"
      ]
     },
     "execution_count": 22,
     "metadata": {},
     "output_type": "execute_result"
    }
   ],
   "source": [
    "x0.shape"
   ]
  },
  {
   "cell_type": "code",
   "execution_count": 28,
   "id": "ecd18e2e-39d1-4182-ac8d-895b4c0ea4ae",
   "metadata": {},
   "outputs": [
    {
     "data": {
      "text/plain": [
       "array([[ 0.50021438, -0.16326352, -0.09804697,  1.08737501,  0.11803062,\n",
       "         0.11386563,  2.01354346,  1.82154394, -0.42965362, -0.74284651,\n",
       "        -0.62486881, -2.05594263, -0.02997814,  1.68738144, -0.35172473,\n",
       "         1.0663552 , -0.29756513, -0.6342671 , -1.4870695 ,  1.92539235],\n",
       "       [-0.75416814, -1.65870489,  0.431825  , -0.73729312, -0.21078099,\n",
       "         0.50197414, -0.12267734, -0.42030987,  1.0417285 , -0.27746366,\n",
       "         0.73318293,  0.72176735, -0.30074073,  0.40323066,  0.17958104,\n",
       "        -2.15383383,  0.2761618 ,  0.33038635, -0.54257135,  1.33588432],\n",
       "       [ 0.69812641, -0.24035425, -1.75847338,  0.45086907, -0.53073868,\n",
       "         0.58650149,  0.27955504,  1.03292026, -2.27273279,  0.11306594,\n",
       "         1.75006081,  0.89080165,  2.22668877, -0.61188866,  0.11636638,\n",
       "         2.88365391,  1.03933085,  1.69574242, -2.98300466,  0.25423585]])"
      ]
     },
     "execution_count": 28,
     "metadata": {},
     "output_type": "execute_result"
    }
   ],
   "source": [
    "idx = np.where(b == 1)[0]\n",
    "x1 = a[idx, :]\n",
    "x1[:3]"
   ]
  },
  {
   "cell_type": "code",
   "execution_count": 29,
   "id": "f8240a51-f17d-4630-b192-236efe8a7a5d",
   "metadata": {
    "tags": []
   },
   "outputs": [
    {
     "data": {
      "text/plain": [
       "array([1, 1, 1])"
      ]
     },
     "execution_count": 29,
     "metadata": {},
     "output_type": "execute_result"
    }
   ],
   "source": [
    "y1 = b[idx]\n",
    "y1[:3]"
   ]
  },
  {
   "cell_type": "markdown",
   "id": "feab7172-ef00-4624-b831-ad06919a6cf8",
   "metadata": {},
   "source": [
    "we randomize the ordering"
   ]
  },
  {
   "cell_type": "code",
   "execution_count": 30,
   "id": "43a6422d-2513-45eb-8b56-61e3d81ead34",
   "metadata": {
    "tags": []
   },
   "outputs": [
    {
     "data": {
      "text/plain": [
       "array([5432, 7411, 2228, 8933, 7477, 6939, 3231, 8374, 4888, 7321, 7992,\n",
       "       3139, 3714, 8010, 3660])"
      ]
     },
     "execution_count": 30,
     "metadata": {},
     "output_type": "execute_result"
    }
   ],
   "source": [
    "idx = np.argsort(np.random.random(y0.shape))\n",
    "idx[:15]"
   ]
  },
  {
   "cell_type": "code",
   "execution_count": 31,
   "id": "ea0eeb5c-b5a8-4920-b0e2-e6f76058b9c9",
   "metadata": {
    "tags": []
   },
   "outputs": [],
   "source": [
    "y0 = y0[idx]\n",
    "x0 = x0[idx]"
   ]
  },
  {
   "cell_type": "code",
   "execution_count": 32,
   "id": "6516e99c-1d3b-4022-8ac1-d3d70db6efc1",
   "metadata": {
    "tags": []
   },
   "outputs": [],
   "source": [
    "idx = np.argsort(np.random.random(y1.shape))\n",
    "y1 = y1[idx]\n",
    "x1 = x1[idx]"
   ]
  },
  {
   "cell_type": "markdown",
   "id": "9a148694-cdc0-4217-a951-a3f8891ef7d6",
   "metadata": {},
   "source": [
    "Now we extract the first 90% of the samples for training subset"
   ]
  },
  {
   "cell_type": "code",
   "execution_count": 33,
   "id": "f298c92a-5a8f-4c3e-93a4-304f2d298b39",
   "metadata": {
    "tags": []
   },
   "outputs": [],
   "source": [
    "ntrn0 = int(0.9 * x0.shape[0])\n",
    "ntrn1 = int(0.9 * x1.shape[0])"
   ]
  },
  {
   "cell_type": "code",
   "execution_count": 34,
   "id": "0da2ab5e-4c88-405f-9c2e-dc1582ffd67d",
   "metadata": {
    "tags": []
   },
   "outputs": [
    {
     "data": {
      "text/plain": [
       "8059"
      ]
     },
     "execution_count": 34,
     "metadata": {},
     "output_type": "execute_result"
    }
   ],
   "source": [
    "ntrn0"
   ]
  },
  {
   "cell_type": "code",
   "execution_count": 35,
   "id": "c4800562-f31c-4626-9487-9fef839d3cc1",
   "metadata": {
    "tags": []
   },
   "outputs": [
    {
     "data": {
      "text/plain": [
       "940"
      ]
     },
     "execution_count": 35,
     "metadata": {},
     "output_type": "execute_result"
    }
   ],
   "source": [
    "ntrn1"
   ]
  },
  {
   "cell_type": "code",
   "execution_count": 38,
   "id": "a0f6947a-a4f4-4dc7-b45a-5a3adc2468d1",
   "metadata": {
    "tags": []
   },
   "outputs": [
    {
     "data": {
      "text/plain": [
       "array([[0., 0., 0., 0., 0., 0., 0., 0., 0., 0., 0., 0., 0., 0., 0., 0.,\n",
       "        0., 0., 0., 0.],\n",
       "       [0., 0., 0., 0., 0., 0., 0., 0., 0., 0., 0., 0., 0., 0., 0., 0.,\n",
       "        0., 0., 0., 0.],\n",
       "       [0., 0., 0., 0., 0., 0., 0., 0., 0., 0., 0., 0., 0., 0., 0., 0.,\n",
       "        0., 0., 0., 0.],\n",
       "       [0., 0., 0., 0., 0., 0., 0., 0., 0., 0., 0., 0., 0., 0., 0., 0.,\n",
       "        0., 0., 0., 0.],\n",
       "       [0., 0., 0., 0., 0., 0., 0., 0., 0., 0., 0., 0., 0., 0., 0., 0.,\n",
       "        0., 0., 0., 0.]])"
      ]
     },
     "execution_count": 38,
     "metadata": {},
     "output_type": "execute_result"
    }
   ],
   "source": [
    "xtrn = np.zeros((ntrn0 + ntrn1, 20))\n",
    "xtrn[:5]"
   ]
  },
  {
   "cell_type": "code",
   "execution_count": 39,
   "id": "f53cc827-0daf-4561-a6df-0cd56de19ed9",
   "metadata": {
    "tags": []
   },
   "outputs": [
    {
     "data": {
      "text/plain": [
       "(8999, 20)"
      ]
     },
     "execution_count": 39,
     "metadata": {},
     "output_type": "execute_result"
    }
   ],
   "source": [
    "xtrn.shape"
   ]
  },
  {
   "cell_type": "code",
   "execution_count": 41,
   "id": "32e6a2f8-a074-43bc-8fb4-f6916466248e",
   "metadata": {
    "tags": []
   },
   "outputs": [
    {
     "data": {
      "text/plain": [
       "array([[ 1.48888723,  1.27833244,  0.69818143, -0.21101694, -0.51658659,\n",
       "        -0.80126214, -0.41896179, -1.24225515,  0.05833789, -0.51392662,\n",
       "         1.38809842, -0.66567239, -1.31351751, -0.39708347, -0.36416118,\n",
       "         1.37815834, -1.78293193,  0.16473661,  0.22902626, -0.79515105],\n",
       "       [ 1.16565498, -1.33584137,  1.20417061,  1.1781049 , -1.07775975,\n",
       "        -0.34591082, -0.76132787, -1.23147883,  0.62165836, -0.69444966,\n",
       "         0.34059325,  0.22381181, -2.00035169,  0.00692985, -0.95081519,\n",
       "         0.81937047,  0.73606602, -1.07441955,  0.81574586, -1.80795171],\n",
       "       [ 0.45762289, -1.26039465,  1.54726731,  1.05794085, -1.3578362 ,\n",
       "         1.10021339, -0.79041268, -1.01011252,  0.78448737, -0.26905697,\n",
       "        -0.05294222,  0.49280389, -2.57757305, -0.4587526 ,  0.36548405,\n",
       "         1.09556467,  0.16930105,  2.13837837,  0.52756098, -0.13240353]])"
      ]
     },
     "execution_count": 41,
     "metadata": {},
     "output_type": "execute_result"
    }
   ],
   "source": [
    "xtrn[:ntrn0] = x0[:ntrn0]\n",
    "xtrn[:3]"
   ]
  },
  {
   "cell_type": "code",
   "execution_count": 44,
   "id": "1cae604b-d58d-49b3-8547-507e546fbcf0",
   "metadata": {
    "tags": []
   },
   "outputs": [
    {
     "data": {
      "text/plain": [
       "array([0., 0., 0., 0., 0., 0., 0., 0.])"
      ]
     },
     "execution_count": 44,
     "metadata": {},
     "output_type": "execute_result"
    }
   ],
   "source": [
    "ytrn = np.zeros(ntrn0 + ntrn1)\n",
    "ytrn[:ntrn0] = y0[:ntrn0]\n",
    "ytrn[:8]"
   ]
  },
  {
   "cell_type": "markdown",
   "id": "c75a5986-603f-4121-9e7f-8d45418f9c9d",
   "metadata": {},
   "source": [
    "The remaining 5% for validation\n",
    "Since the order is ramdomized, we can just read sequencially"
   ]
  },
  {
   "cell_type": "code",
   "execution_count": 45,
   "id": "12cca25f-cf44-442c-a32a-d26276065315",
   "metadata": {
    "tags": []
   },
   "outputs": [],
   "source": [
    "n0 = int(x0.shape[0] - ntrn0)"
   ]
  },
  {
   "cell_type": "code",
   "execution_count": 46,
   "id": "a8004085-8033-4bd7-9db1-1e4b5ee7391c",
   "metadata": {
    "tags": []
   },
   "outputs": [],
   "source": [
    "n1 = int(x1.shape[0] - ntrn1)"
   ]
  },
  {
   "cell_type": "code",
   "execution_count": 48,
   "id": "0583138e-344d-499c-aab1-4295844a421b",
   "metadata": {
    "tags": []
   },
   "outputs": [],
   "source": [
    "xval = np.zeros((int(n0 / 2 + n1 / 2), 20))\n",
    "yval = np.zeros(int(n0 / 2 + n1 / 2))"
   ]
  },
  {
   "cell_type": "code",
   "execution_count": 50,
   "id": "0ddb856d-a8ef-4516-af44-328c714a4094",
   "metadata": {
    "tags": []
   },
   "outputs": [],
   "source": [
    "xval[:(n0 // 2)] = x0[ntrn0:(ntrn0 + n0 // 2)]"
   ]
  },
  {
   "cell_type": "code",
   "execution_count": 51,
   "id": "5723f487-f901-4052-a831-b6502bfa6bf2",
   "metadata": {
    "tags": []
   },
   "outputs": [],
   "source": [
    "xval[(n0 // 2):] = x1[ntrn1:(ntrn1 + n1 // 2)]"
   ]
  },
  {
   "cell_type": "code",
   "execution_count": 52,
   "id": "bcaeb950-d9f3-4070-b8da-69d43cb09aae",
   "metadata": {
    "tags": []
   },
   "outputs": [],
   "source": [
    "yval[:(n0 // 2)] = y0[ntrn0:(ntrn0 + n0 // 2)]"
   ]
  },
  {
   "cell_type": "code",
   "execution_count": 53,
   "id": "6103b02e-7387-48b6-b719-26bebe95c01c",
   "metadata": {
    "tags": []
   },
   "outputs": [],
   "source": [
    "yval[(n0 // 2):] = y1[ntrn1:(ntrn1 + n1 // 2)]"
   ]
  },
  {
   "cell_type": "markdown",
   "id": "ac61e152-8794-4790-8a66-d44832a62341",
   "metadata": {},
   "source": [
    "The rest 5% is for testing"
   ]
  },
  {
   "cell_type": "code",
   "execution_count": 55,
   "id": "4ce6b9c8-630b-4b40-80e1-a324d2c0d81b",
   "metadata": {
    "tags": []
   },
   "outputs": [],
   "source": [
    "xtst = np.concatenate((x0[(ntrn0 + n0 // 2):], x1[(ntrn1 + n1 // 2):]))"
   ]
  },
  {
   "cell_type": "code",
   "execution_count": 57,
   "id": "d40d6498-ef7a-44b1-b271-6cd1d469eb20",
   "metadata": {
    "tags": []
   },
   "outputs": [],
   "source": [
    "ytst = np.concatenate((y0[ntrn0 + n0 // 2:], y1[ntrn1 + n1 // 2:]))"
   ]
  }
 ],
 "metadata": {
  "kernelspec": {
   "display_name": "Python 3 (ipykernel)",
   "language": "python",
   "name": "python3"
  },
  "language_info": {
   "codemirror_mode": {
    "name": "ipython",
    "version": 3
   },
   "file_extension": ".py",
   "mimetype": "text/x-python",
   "name": "python",
   "nbconvert_exporter": "python",
   "pygments_lexer": "ipython3",
   "version": "3.10.6"
  }
 },
 "nbformat": 4,
 "nbformat_minor": 5
}
